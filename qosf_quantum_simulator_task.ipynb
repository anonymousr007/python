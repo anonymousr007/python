{
 "cells": [
  {
   "cell_type": "markdown",
   "metadata": {},
   "source": [
    "# Quantum Circuit Simulator"
   ]
  },
  {
   "cell_type": "code",
   "execution_count": 1,
   "metadata": {},
   "outputs": [],
   "source": [
    "import numpy as np\n",
    "from numpy.random import choice\n",
    "from scipy.optimize import minimize"
   ]
  },
  {
   "cell_type": "code",
   "execution_count": 27,
   "metadata": {},
   "outputs": [],
   "source": [
    "class Quantum_Circuit:\n",
    "    def __init__ (self, total_qubit):\n",
    "        self.total_qubit = total_qubit\n",
    "        if self.total_qubit <= 0:\n",
    "            raise Exception (\"Please enter valid number greater than 0\")\n",
    "        self.state = {}\n",
    "        for i in range(total_qubit):\n",
    "            self.state[i] = np.array([1,0])\n",
    "            \n",
    "    def set_initial_state(self, initial_state, target_qubit):\n",
    "        '''\n",
    "        initial_state: set any initial state for a target qubit \n",
    "        if no initial state is defined then returns the ground state\n",
    "        '''\n",
    "        if target_qubit >= self.total_qubit:\n",
    "            raise Exception(\"Invalid target_qubit\")\n",
    "        if int(round((np.abs(initial_state)**2).sum(),5)) != 1:\n",
    "            raise Exception(\"Amplitude of the state should sum up to 1\")\n",
    "        self.state[target_qubit] = initial_state\n",
    "        \n",
    "    def get_state(self):\n",
    "        q = np.array([1])\n",
    "        for key in self.state:\n",
    "            q = np.kron(q,self.state[key])\n",
    "        return q\n",
    "\n",
    "def get_operator(total_qubits, gate_unitary, target_qubits, *args, **kwargs):\n",
    "    # return unitary operator of size 2**n x 2**n for given gate and target qubits\n",
    "    switcher_gate = {\n",
    "        \"x\": x_gate,\n",
    "        \"y\": y_gate,\n",
    "        \"z\": z_gate,\n",
    "        \"h\": hadamard_gate,\n",
    "        \"cx\": cnot_gate,\n",
    "        \"u3\": u3_gate\n",
    "    }\n",
    "    gate_func = switcher_gate.get(gate_unitary, lambda a,b: print(\"Invalid gate name\"))\n",
    "    return gate_func(total_qubits, target_qubits, args)\n",
    "\n",
    "def set_qubit_gate(single_qubit_gate_operator, target_qubits, total_qubits):\n",
    "    identity = np.identity(2)\n",
    "    qubit_gates = {}\n",
    "    for i in range(total_qubits):\n",
    "        if i == target_qubits[0]:\n",
    "            qubit_gates[i] = single_qubit_gate_operator\n",
    "        else:\n",
    "            qubit_gates[i] = identity\n",
    "    return qubit_gates\n",
    "    \n",
    "def x_gate(total_qubits, target_qubits, *args): \n",
    "    X_operator = np.array([\n",
    "        [0,1],\n",
    "        [1,0]\n",
    "    ])\n",
    "    qubit_gates = set_qubit_gate(X_operator, target_qubits, total_qubits)    \n",
    "    operator = np.array([1])\n",
    "    for j in range(total_qubits):\n",
    "        operator = np.kron(operator,qubit_gates[j])            \n",
    "    return operator\n",
    "\n",
    "def y_gate(total_qubits, target_qubits, *args):\n",
    "    Y_operator = np.array([\n",
    "        [0,0-1.j],\n",
    "        [0+1.j,0]\n",
    "    ])\n",
    "    qubit_gates = set_qubit_gate(Y_operator, target_qubits, total_qubits)    \n",
    "    operator = np.array([1])\n",
    "    for j in range(total_qubits):\n",
    "        operator = np.kron(operator,qubit_gates[j])            \n",
    "    return operator  \n",
    "\n",
    "def z_gate(total_qubits, target_qubits, *args):\n",
    "    Z_operator = np.array([\n",
    "        [1,0],\n",
    "        [0,-1]\n",
    "    ])\n",
    "    qubit_gates = set_qubit_gate(Z_operator, target_qubits, total_qubits)\n",
    "    operator = np.array([1])\n",
    "    for j in range(total_qubits):\n",
    "        operator = np.kron(operator,qubit_gates[j])\n",
    "    return operator\n",
    "\n",
    "def hadamard_gate(total_qubits, target_qubits, *args):\n",
    "    h_operator = np.array([\n",
    "        [1/np.sqrt(2),1/np.sqrt(2)],\n",
    "        [1/np.sqrt(2),-1/np.sqrt(2)]\n",
    "    ])\n",
    "    qubit_gates = set_qubit_gate(h_operator, target_qubits, total_qubits)    \n",
    "    operator = np.array([1])\n",
    "    for j in range(total_qubits):\n",
    "        operator = np.kron(operator,qubit_gates[j])    \n",
    "    return operator\n",
    "\n",
    "def u3_gate(total_qubits, target_qubits, args):\n",
    "    u3_operator = np.array([\n",
    "        [np.cos(args[0]['theta']/2), -1*np.exp(1.j * args[0]['lambda']) * np.sin(args[0]['theta']/2)],\n",
    "        [np.exp(1.j * args[0]['phi']) * np.sin(args[0]['theta']/2), np.exp(1.j * args[0]['lambda'] + 1.j * args[0]['phi']) * np.cos(args[0]['theta']/2)]\n",
    "    ])\n",
    "    for i in u3_operator:\n",
    "        for j in range(2):\n",
    "            i[j]= complex(round(i[j].real,6),round(i[j].imag,6))\n",
    "    \n",
    "    qubit_gates = set_qubit_gate(u3_operator, target_qubits, total_qubits)\n",
    "    operator = np.array([1])\n",
    "    for k in range(total_qubits):\n",
    "        operator = np.kron(operator, qubit_gates[k])\n",
    "    return operator\n",
    "    \n",
    "def cnot_gate(total_qubits, target_qubits, args):\n",
    "    P0x0 = np.array ([\n",
    "    [1,0],\n",
    "    [0,0]\n",
    "    ])\n",
    "    \n",
    "    P1x1 = np.array([\n",
    "    [0, 0],\n",
    "    [0, 1]\n",
    "    ])\n",
    "    \n",
    "    X_operator = np.array([\n",
    "        [0,1],\n",
    "        [1,0]\n",
    "    ])   \n",
    "    identity = np.identity(2)\n",
    "    \n",
    "    operator1 = P0x0\n",
    "    operator2 = P1x1\n",
    "    \n",
    "    if target_qubits[0]<target_qubits[1]:\n",
    "        qubits = [*range(target_qubits[0],target_qubits[1]+1)]\n",
    "        for i in range(target_qubits[1]-target_qubits[0]-1):\n",
    "            operator1 = np.kron(operator1,identity)\n",
    "            operator2 = np.kron(operator2,identity)\n",
    "        operator = np.kron(operator1,identity) + np.kron(operator2,X_operator)\n",
    "    else:\n",
    "        qubits = [*range(target_qubits[1],target_qubits[0]+1)]\n",
    "        for i in range(target_qubits[0]-target_qubits[1]-1):\n",
    "            operator1 = np.kron(identity,operator1)\n",
    "            operator2 = np.kron(identity,operator2)\n",
    "        operator = np.kron(identity,operator1) + np.kron(X_operator,operator2)\n",
    "        \n",
    "    added_operator = False\n",
    "    final_operator = [1]\n",
    "    \n",
    "    for j in range(total_qubits):\n",
    "        if j not in qubits:\n",
    "            final_operator = np.kron(final_operator,identity)\n",
    "        elif j in qubits and added_operator==False:\n",
    "            final_operator = np.kron(final_operator,operator)\n",
    "            added_operator = True\n",
    "    \n",
    "    return final_operator\n",
    "\n",
    "def run_program(initial_state, program, *args):\n",
    "    total_qubits = int(np.log2(len(initial_state)))\n",
    "    for i in program:\n",
    "        if i['gate']== 'u3':\n",
    "            if len(args) > 0:\n",
    "                i['params']['theta'] = np.around(args[0]['global_1'],decimals=6)\n",
    "                i['params']['phi'] = np.around(args[0]['global_2'],decimals=6)\n",
    "            matrix_operator = get_operator(total_qubits, i['gate'], i['target'],i['params'])\n",
    "        else:\n",
    "            matrix_operator = get_operator(total_qubits, i['gate'], i['target'])\n",
    "        initial_state = np.dot(initial_state, matrix_operator)\n",
    "    return np.around(initial_state, decimals= 3)\n",
    "\n",
    "def get_counts(final_state, shots):\n",
    "    prob = np.round(np.abs(final_state)**2,2)\n",
    "    length_state = len(prob)\n",
    "    total_qubits = int(np.log2(length_state))\n",
    "    qubit_result = {}\n",
    "    qubits = []\n",
    "    \n",
    "    for i in range(length_state):\n",
    "        qubit_result[np.binary_repr(i,width=total_qubits)] = 0\n",
    "        qubits.append(np.binary_repr(i,width=total_qubits))\n",
    "    for j in range(shots):\n",
    "        result = choice(qubits,1,p=prob)\n",
    "        qubit_result[result[0]]+= 1\n",
    "    predicted_output = []    \n",
    "    updated_result = {}\n",
    "    for key in qubit_result:\n",
    "        if qubit_result[key] >0:\n",
    "            predicted_output.append(qubit_result[key])\n",
    "            updated_result[key] = qubit_result[key]\n",
    "    return updated_result, predicted_output\n",
    "\n",
    "def objective_function(params):\n",
    "    # Generates correct params to produce bell state\n",
    "    final_state =  run_program(my_qpu, my_circuit, {'global_1': params[0], 'global_2': params[1]})\n",
    "    counts, predicted_output = get_counts(final_state, shots)\n",
    "    actual_output = np.array([round(shots/2),round(shots/2)])\n",
    "    cost = np.square(np.subtract(actual_output, predicted_output)).mean()\n",
    "    return cost\n",
    "    "
   ]
  },
  {
   "cell_type": "markdown",
   "metadata": {},
   "source": [
    "Implementation of the following circuit\n",
    "![title](images_circuit/circuit_1.png)"
   ]
  },
  {
   "cell_type": "code",
   "execution_count": 28,
   "metadata": {},
   "outputs": [
    {
     "name": "stdout",
     "output_type": "stream",
     "text": [
      "[0.5 0.5 0.5 0.5]\n",
      "{'00': 263, '01': 279, '10': 217, '11': 241}\n"
     ]
    }
   ],
   "source": [
    "my_circuit = [\n",
    "    {\"gate\":'h', \"target\":[0]},\n",
    "    {\"gate\":'h', \"target\":[1]},\n",
    "    {\"gate\":'cx', \"target\": [0,1]}\n",
    "]\n",
    "\n",
    "quantum_circuit = Quantum_Circuit(2)\n",
    "\n",
    "my_qpu = quantum_circuit.get_state()\n",
    "\n",
    "final_state = run_program(my_qpu, my_circuit)\n",
    "\n",
    "print(final_state)\n",
    "\n",
    "print(get_counts(final_state,1000)[0])"
   ]
  },
  {
   "cell_type": "markdown",
   "metadata": {},
   "source": [
    "Implementation of cnot for non consequent qubits:\n",
    "![title](images_circuit/circuit_2.png)"
   ]
  },
  {
   "cell_type": "code",
   "execution_count": 30,
   "metadata": {},
   "outputs": [
    {
     "name": "stdout",
     "output_type": "stream",
     "text": [
      "[0.5 0.  0.5 0.  0.  0.5 0.  0.5]\n",
      "{'000': 261, '010': 255, '101': 228, '111': 256}\n"
     ]
    }
   ],
   "source": [
    "my_circuit = [\n",
    "    {\"gate\":'h', \"target\":[0]},\n",
    "    {\"gate\":'h', \"target\":[1]},\n",
    "    {\"gate\":'cx', \"target\": [0,2]}\n",
    "]\n",
    "\n",
    "quantum_circuit = Quantum_Circuit(3)\n",
    "\n",
    "my_qpu = quantum_circuit.get_state()\n",
    "\n",
    "final_state = run_program(my_qpu, my_circuit)\n",
    "\n",
    "print(final_state)\n",
    "\n",
    "print(get_counts(final_state,1000)[0])"
   ]
  },
  {
   "cell_type": "markdown",
   "metadata": {},
   "source": [
    "Implementation for initialization of state:\n",
    "![title](images_circuit/circuit_3.png)"
   ]
  },
  {
   "cell_type": "code",
   "execution_count": 31,
   "metadata": {},
   "outputs": [
    {
     "name": "stdout",
     "output_type": "stream",
     "text": [
      "[1. 0. 0. 0.]\n",
      "{'00': 1000}\n"
     ]
    }
   ],
   "source": [
    "my_circuit = [\n",
    "    {\"gate\":'x', \"target\":[0]},\n",
    "    {\"gate\":'x', \"target\":[1]}\n",
    "]\n",
    "\n",
    "quantum_circuit = Quantum_Circuit(2)\n",
    "\n",
    "initial_state = [0,1]\n",
    "\n",
    "quantum_circuit.set_initial_state(initial_state,0)\n",
    "quantum_circuit.set_initial_state(initial_state,1)\n",
    "\n",
    "my_qpu = quantum_circuit.get_state()\n",
    "\n",
    "final_state = run_program(my_qpu, my_circuit)\n",
    "\n",
    "print(final_state)\n",
    "\n",
    "print(get_counts(final_state,1000)[0])"
   ]
  },
  {
   "cell_type": "markdown",
   "metadata": {},
   "source": [
    "Implementation of u3 gate:\n",
    "![title](images_circuit/circuit_4.png)"
   ]
  },
  {
   "cell_type": "code",
   "execution_count": 32,
   "metadata": {},
   "outputs": [
    {
     "name": "stdout",
     "output_type": "stream",
     "text": [
      "[0.+0.j 1.+0.j]\n",
      "{'1': 1000}\n"
     ]
    }
   ],
   "source": [
    "my_circuit = [\n",
    "    { \"gate\": \"u3\", \"params\": { \"theta\": 3.1415, \"phi\": 1.15708, \"lambda\": -3.1415 }, \"target\": [0] }\n",
    "]\n",
    "\n",
    "quantum_circuit = Quantum_Circuit(1)\n",
    "\n",
    "my_qpu = quantum_circuit.get_state()\n",
    "\n",
    "final_state = run_program(my_qpu, my_circuit)\n",
    "\n",
    "print(final_state)\n",
    "\n",
    "print(get_counts(final_state,1000)[0])"
   ]
  },
  {
   "cell_type": "markdown",
   "metadata": {},
   "source": [
    "Implementation of simple function to generate correct params to produce bell state:\n",
    "![title](images_circuit/circuit_5.png)\n",
    "\n",
    "But instead of updating all three params, as I saw in the description of the question, I have updated theta and phi."
   ]
  },
  {
   "cell_type": "code",
   "execution_count": 33,
   "metadata": {},
   "outputs": [
    {
     "name": "stdout",
     "output_type": "stream",
     "text": [
      "[4.66672066 2.5415622 ]\n"
     ]
    }
   ],
   "source": [
    "params = np.array([3.1415, 1.15708])\n",
    "\n",
    "my_circuit = [\n",
    "    { \"gate\": \"u3\", \"params\": { \"theta\": \"global_1\", \"phi\": \"global_2\", \"lambda\": -3.1415 }, \"target\": [0] },\n",
    "    {\"gate\":'cx', \"target\": [0,1]}\n",
    "]\n",
    "\n",
    "shots = 1000\n",
    "\n",
    "quantum_circuit = Quantum_Circuit(2)\n",
    "\n",
    "my_qpu = quantum_circuit.get_state()\n",
    "\n",
    "minimum = minimize(objective_function, params, method= 'Powell', tol=1e-6)\n",
    "\n",
    "# prints out the correct params\n",
    "print(minimum.x)"
   ]
  },
  {
   "cell_type": "code",
   "execution_count": 35,
   "metadata": {},
   "outputs": [
    {
     "name": "stdout",
     "output_type": "stream",
     "text": [
      "{'00': 504, '11': 496}\n"
     ]
    }
   ],
   "source": [
    "# check if the updated params produce bell state\n",
    "params = np.array(minimum.x)\n",
    "\n",
    "shots = 1000\n",
    "\n",
    "my_circuit = [\n",
    "    { \"gate\": \"u3\", \"params\": { \"theta\": \"global_1\", \"phi\": \"global_2\", \"lambda\": -3.1415 }, \"target\": [0] },\n",
    "    {\"gate\":'cx', \"target\": [0,1]}\n",
    "]\n",
    "\n",
    "quantum_circuit = Quantum_Circuit(2)\n",
    "\n",
    "my_qpu = quantum_circuit.get_state()\n",
    "\n",
    "final_state = run_program(my_qpu, my_circuit,{ \"global_1\": params[0], \"global_2\": params[1]})\n",
    "\n",
    "print(get_counts(final_state,shots)[0])"
   ]
  },
  {
   "cell_type": "markdown",
   "metadata": {},
   "source": [
    "I have tried to do as much error handling as I can :) Thanks"
   ]
  },
  {
   "cell_type": "code",
   "execution_count": null,
   "metadata": {},
   "outputs": [],
   "source": []
  }
 ],
 "metadata": {
  "kernelspec": {
   "display_name": "Python 3",
   "language": "python",
   "name": "python3"
  },
  "language_info": {
   "codemirror_mode": {
    "name": "ipython",
    "version": 3
   },
   "file_extension": ".py",
   "mimetype": "text/x-python",
   "name": "python",
   "nbconvert_exporter": "python",
   "pygments_lexer": "ipython3",
   "version": "3.8.5"
  }
 },
 "nbformat": 4,
 "nbformat_minor": 4
}
